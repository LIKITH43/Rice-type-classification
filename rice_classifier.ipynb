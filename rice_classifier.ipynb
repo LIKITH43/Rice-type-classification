https://colab.research.google.com/github/omaratef3221/pytorch_tutorials/blob/main/Ex_1_Tabular_Classification.ipynb
